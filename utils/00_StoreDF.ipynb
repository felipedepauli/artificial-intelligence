{
 "cells": [
  {
   "cell_type": "code",
   "execution_count": 46,
   "metadata": {},
   "outputs": [],
   "source": [
    "myPeople = [\n",
    "    {\n",
    "        'name' : 'Felipe C. de Pauli'\n",
    "    },\n",
    "    {\n",
    "        'name' : 'Helena C. Vieira'\n",
    "    },\n",
    "    {\n",
    "        'name' : 'Piratinha, piratão'\n",
    "    },\n",
    "    {\n",
    "        'name' : 'Marieta-ta-ta',\n",
    "    },\n",
    "    {\n",
    "        'name' : 'Little Heitor'\n",
    "    }\n",
    "]"
   ]
  },
  {
   "cell_type": "code",
   "execution_count": 47,
   "metadata": {},
   "outputs": [],
   "source": [
    "import pandas as pd"
   ]
  },
  {
   "cell_type": "code",
   "execution_count": 48,
   "metadata": {},
   "outputs": [],
   "source": [
    "df = pd.DataFrame(myPeople)"
   ]
  },
  {
   "cell_type": "code",
   "execution_count": 49,
   "metadata": {},
   "outputs": [
    {
     "data": {
      "text/html": [
       "<div>\n",
       "<style scoped>\n",
       "    .dataframe tbody tr th:only-of-type {\n",
       "        vertical-align: middle;\n",
       "    }\n",
       "\n",
       "    .dataframe tbody tr th {\n",
       "        vertical-align: top;\n",
       "    }\n",
       "\n",
       "    .dataframe thead th {\n",
       "        text-align: right;\n",
       "    }\n",
       "</style>\n",
       "<table border=\"1\" class=\"dataframe\">\n",
       "  <thead>\n",
       "    <tr style=\"text-align: right;\">\n",
       "      <th></th>\n",
       "      <th>name</th>\n",
       "    </tr>\n",
       "  </thead>\n",
       "  <tbody>\n",
       "    <tr>\n",
       "      <th>0</th>\n",
       "      <td>Felipe C. de Pauli</td>\n",
       "    </tr>\n",
       "    <tr>\n",
       "      <th>1</th>\n",
       "      <td>Helena C. Vieira</td>\n",
       "    </tr>\n",
       "    <tr>\n",
       "      <th>2</th>\n",
       "      <td>Piratinha, piratão</td>\n",
       "    </tr>\n",
       "    <tr>\n",
       "      <th>3</th>\n",
       "      <td>Marieta-ta-ta</td>\n",
       "    </tr>\n",
       "    <tr>\n",
       "      <th>4</th>\n",
       "      <td>Little Heitor</td>\n",
       "    </tr>\n",
       "  </tbody>\n",
       "</table>\n",
       "</div>"
      ],
      "text/plain": [
       "                 name\n",
       "0  Felipe C. de Pauli\n",
       "1    Helena C. Vieira\n",
       "2  Piratinha, piratão\n",
       "3       Marieta-ta-ta\n",
       "4       Little Heitor"
      ]
     },
     "execution_count": 49,
     "metadata": {},
     "output_type": "execute_result"
    }
   ],
   "source": [
    "df"
   ]
  },
  {
   "cell_type": "code",
   "execution_count": 50,
   "metadata": {},
   "outputs": [
    {
     "name": "stdout",
     "output_type": "stream",
     "text": [
      "Writing 'df' (DataFrame) to file 'table.txt'.\n"
     ]
    }
   ],
   "source": [
    "%store df >table.txt"
   ]
  },
  {
   "cell_type": "code",
   "execution_count": 51,
   "metadata": {},
   "outputs": [
    {
     "name": "stdout",
     "output_type": "stream",
     "text": [
      "Stored variables and their in-db values:\n"
     ]
    }
   ],
   "source": [
    "%store"
   ]
  },
  {
   "cell_type": "code",
   "execution_count": 62,
   "metadata": {},
   "outputs": [
    {
     "ename": "ValueError",
     "evalue": "the number of columns changed from 1 to 5 at row 2; use `usecols` to select a subset and avoid this error",
     "output_type": "error",
     "traceback": [
      "\u001b[1;31m---------------------------------------------------------------------------\u001b[0m",
      "\u001b[1;31mValueError\u001b[0m                                Traceback (most recent call last)",
      "\u001b[1;32md:\\aincrivelfabrica\\git\\artificial-intelligence\\utils\\00_StoreDF.ipynb Cell 7\u001b[0m in \u001b[0;36m<cell line: 2>\u001b[1;34m()\u001b[0m\n\u001b[0;32m      <a href='vscode-notebook-cell:/d%3A/aincrivelfabrica/git/artificial-intelligence/utils/00_StoreDF.ipynb#X10sZmlsZQ%3D%3D?line=0'>1</a>\u001b[0m \u001b[39mimport\u001b[39;00m \u001b[39mnumpy\u001b[39;00m \u001b[39mas\u001b[39;00m \u001b[39mnp\u001b[39;00m\n\u001b[1;32m----> <a href='vscode-notebook-cell:/d%3A/aincrivelfabrica/git/artificial-intelligence/utils/00_StoreDF.ipynb#X10sZmlsZQ%3D%3D?line=1'>2</a>\u001b[0m df2 \u001b[39m=\u001b[39m np\u001b[39m.\u001b[39;49mloadtxt(\u001b[39m'\u001b[39;49m\u001b[39m./table.txt\u001b[39;49m\u001b[39m'\u001b[39;49m, dtype\u001b[39m=\u001b[39;49m\u001b[39mstr\u001b[39;49m)\n\u001b[0;32m      <a href='vscode-notebook-cell:/d%3A/aincrivelfabrica/git/artificial-intelligence/utils/00_StoreDF.ipynb#X10sZmlsZQ%3D%3D?line=2'>3</a>\u001b[0m df2\n",
      "File \u001b[1;32m~\\AppData\\Local\\Packages\\PythonSoftwareFoundation.Python.3.10_qbz5n2kfra8p0\\LocalCache\\local-packages\\Python310\\site-packages\\numpy\\lib\\npyio.py:1308\u001b[0m, in \u001b[0;36mloadtxt\u001b[1;34m(fname, dtype, comments, delimiter, converters, skiprows, usecols, unpack, ndmin, encoding, max_rows, quotechar, like)\u001b[0m\n\u001b[0;32m   1305\u001b[0m \u001b[39mif\u001b[39;00m \u001b[39misinstance\u001b[39m(delimiter, \u001b[39mbytes\u001b[39m):\n\u001b[0;32m   1306\u001b[0m     delimiter \u001b[39m=\u001b[39m delimiter\u001b[39m.\u001b[39mdecode(\u001b[39m'\u001b[39m\u001b[39mlatin1\u001b[39m\u001b[39m'\u001b[39m)\n\u001b[1;32m-> 1308\u001b[0m arr \u001b[39m=\u001b[39m _read(fname, dtype\u001b[39m=\u001b[39;49mdtype, comment\u001b[39m=\u001b[39;49mcomment, delimiter\u001b[39m=\u001b[39;49mdelimiter,\n\u001b[0;32m   1309\u001b[0m             converters\u001b[39m=\u001b[39;49mconverters, skiplines\u001b[39m=\u001b[39;49mskiprows, usecols\u001b[39m=\u001b[39;49musecols,\n\u001b[0;32m   1310\u001b[0m             unpack\u001b[39m=\u001b[39;49munpack, ndmin\u001b[39m=\u001b[39;49mndmin, encoding\u001b[39m=\u001b[39;49mencoding,\n\u001b[0;32m   1311\u001b[0m             max_rows\u001b[39m=\u001b[39;49mmax_rows, quote\u001b[39m=\u001b[39;49mquotechar)\n\u001b[0;32m   1313\u001b[0m \u001b[39mreturn\u001b[39;00m arr\n",
      "File \u001b[1;32m~\\AppData\\Local\\Packages\\PythonSoftwareFoundation.Python.3.10_qbz5n2kfra8p0\\LocalCache\\local-packages\\Python310\\site-packages\\numpy\\lib\\npyio.py:1006\u001b[0m, in \u001b[0;36m_read\u001b[1;34m(fname, delimiter, comment, quote, imaginary_unit, usecols, skiplines, max_rows, converters, ndmin, unpack, dtype, encoding)\u001b[0m\n\u001b[0;32m   1003\u001b[0m \u001b[39melse\u001b[39;00m:\n\u001b[0;32m   1004\u001b[0m     chunk_size \u001b[39m=\u001b[39m \u001b[39mmin\u001b[39m(_loadtxt_chunksize, max_rows)\n\u001b[1;32m-> 1006\u001b[0m next_arr \u001b[39m=\u001b[39m _load_from_filelike(\n\u001b[0;32m   1007\u001b[0m     data, delimiter\u001b[39m=\u001b[39;49mdelimiter, comment\u001b[39m=\u001b[39;49mcomment, quote\u001b[39m=\u001b[39;49mquote,\n\u001b[0;32m   1008\u001b[0m     imaginary_unit\u001b[39m=\u001b[39;49mimaginary_unit,\n\u001b[0;32m   1009\u001b[0m     usecols\u001b[39m=\u001b[39;49musecols, skiplines\u001b[39m=\u001b[39;49mskiplines, max_rows\u001b[39m=\u001b[39;49mmax_rows,\n\u001b[0;32m   1010\u001b[0m     converters\u001b[39m=\u001b[39;49mconverters, dtype\u001b[39m=\u001b[39;49mdtype,\n\u001b[0;32m   1011\u001b[0m     encoding\u001b[39m=\u001b[39;49mencoding, filelike\u001b[39m=\u001b[39;49mfilelike,\n\u001b[0;32m   1012\u001b[0m     byte_converters\u001b[39m=\u001b[39;49mbyte_converters,\n\u001b[0;32m   1013\u001b[0m     c_byte_converters\u001b[39m=\u001b[39;49mc_byte_converters)\n\u001b[0;32m   1014\u001b[0m \u001b[39m# Cast here already.  We hope that this is better even for\u001b[39;00m\n\u001b[0;32m   1015\u001b[0m \u001b[39m# large files because the storage is more compact.  It could\u001b[39;00m\n\u001b[0;32m   1016\u001b[0m \u001b[39m# be adapted (in principle the concatenate could cast).\u001b[39;00m\n\u001b[0;32m   1017\u001b[0m chunks\u001b[39m.\u001b[39mappend(next_arr\u001b[39m.\u001b[39mastype(read_dtype_via_object_chunks))\n",
      "\u001b[1;31mValueError\u001b[0m: the number of columns changed from 1 to 5 at row 2; use `usecols` to select a subset and avoid this error"
     ]
    }
   ],
   "source": [
    "import numpy as np\n",
    "df2 = np.loadtxt('./table.txt', dtype=str)\n",
    "df2"
   ]
  }
 ],
 "metadata": {
  "kernelspec": {
   "display_name": "Python 3.10.8 64-bit (microsoft store)",
   "language": "python",
   "name": "python3"
  },
  "language_info": {
   "codemirror_mode": {
    "name": "ipython",
    "version": 3
   },
   "file_extension": ".py",
   "mimetype": "text/x-python",
   "name": "python",
   "nbconvert_exporter": "python",
   "pygments_lexer": "ipython3",
   "version": "3.10.8"
  },
  "orig_nbformat": 4,
  "vscode": {
   "interpreter": {
    "hash": "85da9e6ab0c9a2748466e84889a61ebe05c014a601cd71a63062f3330162b362"
   }
  }
 },
 "nbformat": 4,
 "nbformat_minor": 2
}
