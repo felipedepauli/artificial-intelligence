{
 "cells": [
  {
   "cell_type": "markdown",
   "metadata": {
    "id": "qpyxZcVULzbY"
   },
   "source": [
    "# Introducing to Keras\n",
    "Keras is a deep learning framework which runs on top ot other frameworks like TensorFlow, Theano or CNTK.\n",
    "\n",
    "Umas das perguntas mais importantes a serem feitas é quando e por que usar um modelo de deep learning.\n",
    "\n",
    "Redes neurais são ótimas extratoras de features, e, por isso, são os modelos mais indicados para trabalhar com dados não estruturados. Isso porque ela realiza uma série de correlações não fáceis de verificar, encontrando padrões e conexões.\n",
    "\n",
    "<img src=\"media/01_Feature_Engineering.png\" width=\"500\"/>"
   ]
  },
  {
   "cell_type": "markdown",
   "metadata": {
    "id": "qsA8MqMtN0C9"
   },
   "source": [
    "Dados não estruturados são encontrados a rodo por aí. Imagens, sons, vídeos, etc.\n",
    "\n",
    "Then we have to consider neural network when:\n",
    "\n",
    "- Dealing with structure data\n",
    "- Don't need easily interpretable data\n",
    "- You can benefit from a known architecture"
   ]
  },
  {
   "cell_type": "markdown",
   "metadata": {},
   "source": [
    "# Your first network\n",
    "\n",
    "It's important to figure out how is a neural network before begin coding.\n",
    "\n",
    "<img src=\"media/02_Neural_Network.png\" width=\"300\"/>\n",
    "\n",
    "We have three layers: (i) input, (ii) hidden and (iii) output.\n",
    "\n",
    "Each connection bewtween neurons has a weight. Each node has its own weight (Bias weight).\n",
    "\n",
    "<img src=\"media/03_Parameters.png\" width = \"400\">"
   ]
  },
  {
   "cell_type": "code",
   "execution_count": 4,
   "metadata": {
    "id": "-dJmwtY_LyK0"
   },
   "outputs": [],
   "source": [
    "from tensorflow.keras.models import Sequential\n",
    "from tensorflow.keras.layers import Dense"
   ]
  },
  {
   "cell_type": "markdown",
   "metadata": {},
   "source": [
    "Vamos implementar esta rede neural:\n",
    "\n",
    "<img src=\"media/04_Ex.png\" width = \"400\">"
   ]
  },
  {
   "cell_type": "code",
   "execution_count": 7,
   "metadata": {},
   "outputs": [
    {
     "name": "stdout",
     "output_type": "stream",
     "text": [
      "Model: \"sequential_2\"\n",
      "_________________________________________________________________\n",
      " Layer (type)                Output Shape              Param #   \n",
      "=================================================================\n",
      " dense_3 (Dense)             (None, 5)                 20        \n",
      "                                                                 \n",
      " dense_4 (Dense)             (None, 1)                 6         \n",
      "                                                                 \n",
      "=================================================================\n",
      "Total params: 26\n",
      "Trainable params: 26\n",
      "Non-trainable params: 0\n",
      "_________________________________________________________________\n"
     ]
    }
   ],
   "source": [
    "model = Sequential();\n",
    "\n",
    "model.add(Dense(5, input_shape = (3, ), activation=\"relu\"));\n",
    "model.add(Dense(1))\n",
    "\n",
    "model.summary()"
   ]
  },
  {
   "cell_type": "markdown",
   "metadata": {},
   "source": [
    "Se você contar, vão ter três neurônios de entrada que deles saem, de cada um, 5 conexões que geram 5 parâmetros peso. Como são 3, vão ser 15 pesos. Somamos a isso os 5 vieses dos 5 neurônios da camada densa intermediário, e temos os 20 parâmetros. Dá para fazer o mesmo para chegar aos 6."
   ]
  },
  {
   "cell_type": "markdown",
   "metadata": {},
   "source": [
    "# Training\n",
    "\n",
    "Before training, we have to compile the model. For this, we use the compile method.\n",
    "\n",
    "It takes two arguments:\n",
    "\n",
    "- optimizer, which update the neurons' weight\n",
    "- loss, which is what we want to minimize"
   ]
  },
  {
   "cell_type": "code",
   "execution_count": 8,
   "metadata": {},
   "outputs": [],
   "source": [
    "model.compile(optimizer=\"adam\", loss=\"mse\")"
   ]
  }
 ],
 "metadata": {
  "colab": {
   "provenance": []
  },
  "kernelspec": {
   "display_name": "Python 3 (ipykernel)",
   "language": "python",
   "name": "python3"
  },
  "language_info": {
   "codemirror_mode": {
    "name": "ipython",
    "version": 3
   },
   "file_extension": ".py",
   "mimetype": "text/x-python",
   "name": "python",
   "nbconvert_exporter": "python",
   "pygments_lexer": "ipython3",
   "version": "3.9.13"
  },
  "vscode": {
   "interpreter": {
    "hash": "c1bf05d749afd6cf3decf70cccf439bc292986ec219fac22a3d74ce095baca5d"
   }
  }
 },
 "nbformat": 4,
 "nbformat_minor": 1
}
