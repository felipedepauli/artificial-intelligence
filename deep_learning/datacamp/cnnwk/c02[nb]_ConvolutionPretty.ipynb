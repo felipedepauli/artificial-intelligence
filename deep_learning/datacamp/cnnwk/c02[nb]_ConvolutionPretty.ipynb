{
 "cells": [
  {
   "cell_type": "code",
   "execution_count": 13,
   "metadata": {},
   "outputs": [
    {
     "ename": "IndexError",
     "evalue": "index 9 is out of bounds for axis 0 with size 9",
     "output_type": "error",
     "traceback": [
      "\u001b[1;31m---------------------------------------------------------------------------\u001b[0m",
      "\u001b[1;31mIndexError\u001b[0m                                Traceback (most recent call last)",
      "\u001b[1;32md:\\aincrivelfabrica\\git\\artificial-intelligence\\deep_learning\\datacamp\\cnnwk\\c02[nb]_ConvolutionPretty.ipynb Cell 1\u001b[0m in \u001b[0;36m<cell line: 7>\u001b[1;34m()\u001b[0m\n\u001b[0;32m      <a href='vscode-notebook-cell:/d%3A/aincrivelfabrica/git/artificial-intelligence/deep_learning/datacamp/cnnwk/c02%5Bnb%5D_ConvolutionPretty.ipynb#W0sZmlsZQ%3D%3D?line=4'>5</a>\u001b[0m conv \u001b[39m=\u001b[39m np\u001b[39m.\u001b[39marray([\u001b[39m0\u001b[39m, \u001b[39m0\u001b[39m, \u001b[39m0\u001b[39m, \u001b[39m0\u001b[39m, \u001b[39m0\u001b[39m, \u001b[39m0\u001b[39m, \u001b[39m0\u001b[39m, \u001b[39m0\u001b[39m, \u001b[39m0\u001b[39m])\n\u001b[0;32m      <a href='vscode-notebook-cell:/d%3A/aincrivelfabrica/git/artificial-intelligence/deep_learning/datacamp/cnnwk/c02%5Bnb%5D_ConvolutionPretty.ipynb#W0sZmlsZQ%3D%3D?line=6'>7</a>\u001b[0m \u001b[39mfor\u001b[39;00m ii \u001b[39min\u001b[39;00m \u001b[39mrange\u001b[39m(\u001b[39mlen\u001b[39m(Image\u001b[39m-\u001b[39m \u001b[39m2\u001b[39m)):\n\u001b[1;32m----> <a href='vscode-notebook-cell:/d%3A/aincrivelfabrica/git/artificial-intelligence/deep_learning/datacamp/cnnwk/c02%5Bnb%5D_ConvolutionPretty.ipynb#W0sZmlsZQ%3D%3D?line=7'>8</a>\u001b[0m     conv[ii] \u001b[39m=\u001b[39m (Kernel \u001b[39m*\u001b[39m Image[ii:ii\u001b[39m+\u001b[39m\u001b[39m2\u001b[39m])\u001b[39m.\u001b[39msum()\n",
      "\u001b[1;31mIndexError\u001b[0m: index 9 is out of bounds for axis 0 with size 9"
     ]
    }
   ],
   "source": [
    "import numpy as np\n",
    "Image  =  np.array([ 0, 0, 0, 0, 0, 0, 0, 1, 0, 1, 0, 0, 0, 0, 0, 1, 0, 0])\n",
    "Kernel = np.array([-1, 1])\n",
    "\n",
    "conv = np.array([0, 0, 0, 0, 0, 0, 0, 0, 0])\n",
    "\n",
    "for ii in range(len(Image- 2)):\n",
    "    conv[ii] = (Kernel * Image[ii:ii+2]).sum()"
   ]
  }
 ],
 "metadata": {
  "kernelspec": {
   "display_name": "Python 3.10.8 64-bit (microsoft store)",
   "language": "python",
   "name": "python3"
  },
  "language_info": {
   "codemirror_mode": {
    "name": "ipython",
    "version": 3
   },
   "file_extension": ".py",
   "mimetype": "text/x-python",
   "name": "python",
   "nbconvert_exporter": "python",
   "pygments_lexer": "ipython3",
   "version": "3.10.8"
  },
  "orig_nbformat": 4,
  "vscode": {
   "interpreter": {
    "hash": "85da9e6ab0c9a2748466e84889a61ebe05c014a601cd71a63062f3330162b362"
   }
  }
 },
 "nbformat": 4,
 "nbformat_minor": 2
}
