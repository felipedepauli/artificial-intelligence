{
 "cells": [
  {
   "cell_type": "code",
   "execution_count": 5,
   "metadata": {},
   "outputs": [],
   "source": [
    "import cv2\n",
    "import os\n",
    "\n",
    "path = \"/home/felipepauli/own/git/theory/engineering/deep_learning/vision/udemy/\""
   ]
  },
  {
   "cell_type": "code",
   "execution_count": 6,
   "metadata": {},
   "outputs": [],
   "source": [
    "image = cv2.imread(os.path.join(path, \"course/Images/people2.jpg\"))\n",
    "cv2.imshow(\"Original\", image)\n",
    "cv2.waitKey(0)\n",
    "cv2.destroyAllWindows()\n",
    "\n",
    "image_gray = cv2.cvtColor(image, cv2.COLOR_BGR2GRAY)\n"
   ]
  },
  {
   "cell_type": "code",
   "execution_count": 7,
   "metadata": {},
   "outputs": [],
   "source": [
    "face_cascade = cv2.CascadeClassifier(os.path.join(path, 'course/Cascades/haarcascade_frontalface_default.xml'))"
   ]
  },
  {
   "cell_type": "code",
   "execution_count": 8,
   "metadata": {},
   "outputs": [
    {
     "name": "stdout",
     "output_type": "stream",
     "text": [
      "[[ 91  80  52  52]\n",
      " [422  29  51  51]\n",
      " [380  54  52  52]\n",
      " [659  80  50  50]\n",
      " [599  60  51  51]\n",
      " [167  34  51  51]\n",
      " [826  91  51  51]\n",
      " [234  45  50  50]\n",
      " [322  47  49  49]\n",
      " [907  62  51  51]\n",
      " [716  98  50  50]\n",
      " [773  52  49  49]\n",
      " [479  68  49  49]]\n"
     ]
    }
   ],
   "source": [
    "detection = face_cascade.detectMultiScale(image_gray, scaleFactor=1.05, minNeighbors=5, minSize=(43, 43), maxSize=(60,60))\n",
    "print(detection)"
   ]
  },
  {
   "cell_type": "code",
   "execution_count": 9,
   "metadata": {},
   "outputs": [
    {
     "name": "stdout",
     "output_type": "stream",
     "text": [
      "52 52\n",
      "51 51\n",
      "52 52\n",
      "50 50\n",
      "51 51\n",
      "51 51\n",
      "51 51\n",
      "50 50\n",
      "49 49\n",
      "51 51\n",
      "50 50\n",
      "49 49\n",
      "49 49\n"
     ]
    }
   ],
   "source": [
    "image_copy = image.copy()\n",
    "for x, y, w, h in detection:\n",
    "    print(w, h)\n",
    "    cv2.rectangle(image_copy, (x, y), (x+w, y+h), (0, 255, 255), 3)\n",
    "cv2.imshow(\"Faces detected!\", image_copy)\n",
    "cv2.waitKey(0)\n",
    "cv2.destroyAllWindows()"
   ]
  },
  {
   "cell_type": "code",
   "execution_count": null,
   "metadata": {},
   "outputs": [],
   "source": []
  }
 ],
 "metadata": {
  "kernelspec": {
   "display_name": "Python 3.8.10 64-bit",
   "language": "python",
   "name": "python3"
  },
  "language_info": {
   "codemirror_mode": {
    "name": "ipython",
    "version": 3
   },
   "file_extension": ".py",
   "mimetype": "text/x-python",
   "name": "python",
   "nbconvert_exporter": "python",
   "pygments_lexer": "ipython3",
   "version": "3.8.10"
  },
  "orig_nbformat": 4,
  "vscode": {
   "interpreter": {
    "hash": "916dbcbb3f70747c44a77c7bcd40155683ae19c65e1c03b4aa3499c5328201f1"
   }
  }
 },
 "nbformat": 4,
 "nbformat_minor": 2
}
