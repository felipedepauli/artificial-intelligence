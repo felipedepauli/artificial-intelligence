{
 "cells": [
  {
   "cell_type": "code",
   "execution_count": 64,
   "metadata": {},
   "outputs": [],
   "source": [
    "import cv2\n",
    "import os"
   ]
  },
  {
   "cell_type": "code",
   "execution_count": 65,
   "metadata": {},
   "outputs": [
    {
     "name": "stdout",
     "output_type": "stream",
     "text": [
      "/home/felipepauli/own/git/theory/engineering/deep_learning/vision/udemy/course\n"
     ]
    }
   ],
   "source": [
    "course_content = os.path.abspath('../../course')\n",
    "print(course_content)"
   ]
  },
  {
   "cell_type": "code",
   "execution_count": 66,
   "metadata": {},
   "outputs": [
    {
     "data": {
      "text/plain": [
       "(1280, 1920, 3)"
      ]
     },
     "execution_count": 66,
     "metadata": {},
     "output_type": "execute_result"
    }
   ],
   "source": [
    "image = cv2.imread(os.path.join(course_content, \"Images/people1.jpg\"))\n",
    "image.shape"
   ]
  },
  {
   "cell_type": "code",
   "execution_count": 67,
   "metadata": {},
   "outputs": [],
   "source": [
    "# image = cv2.resize(image, (800, 600))\n",
    "cv2.imshow(\"Image Reshaped\", image)\n",
    "cv2.waitKey(0)\n",
    "cv2.destroyAllWindows()"
   ]
  },
  {
   "cell_type": "code",
   "execution_count": 68,
   "metadata": {},
   "outputs": [
    {
     "name": "stdout",
     "output_type": "stream",
     "text": [
      "(1280, 1920)\n"
     ]
    }
   ],
   "source": [
    "gray_image = cv2.cvtColor(image, cv2.COLOR_BGR2GRAY)\n",
    "print(gray_image.shape)\n",
    "cv2.imshow(\"Gray Image\", gray_image)\n",
    "cv2.waitKey(0)\n",
    "cv2.destroyAllWindows()"
   ]
  },
  {
   "cell_type": "markdown",
   "metadata": {},
   "source": [
    "### Detecções Faciais"
   ]
  },
  {
   "cell_type": "code",
   "execution_count": 69,
   "metadata": {},
   "outputs": [
    {
     "data": {
      "text/plain": [
       "array([[ 928,  491,  171,  171],\n",
       "       [ 278,  258,  125,  125],\n",
       "       [1635,  156,  147,  147],\n",
       "       [1147,  259,  132,  132],\n",
       "       [ 222,  507,  151,  151]], dtype=int32)"
      ]
     },
     "execution_count": 69,
     "metadata": {},
     "output_type": "execute_result"
    }
   ],
   "source": [
    "facial_detector = cv2.CascadeClassifier(\"../../course/Cascades/haarcascade_frontalface_default.xml\")\n",
    "detections = facial_detector.detectMultiScale(gray_image, scaleFactor=1.3, minSize=(100,100))\n",
    "detections"
   ]
  },
  {
   "cell_type": "markdown",
   "metadata": {},
   "source": [
    "Dá para ver que o detector detectou 6 objetos, ou seja, 6 faces."
   ]
  },
  {
   "cell_type": "code",
   "execution_count": 70,
   "metadata": {},
   "outputs": [],
   "source": [
    "eyes_detector = cv2.CascadeClassifier(\"../../course/Cascades/haarcascade_eye.xml\")"
   ]
  },
  {
   "cell_type": "code",
   "execution_count": 71,
   "metadata": {},
   "outputs": [],
   "source": [
    "image_copy = image.copy()\n",
    "for x, y, w, h in detections:\n",
    "    cv2.rectangle(image_copy, (x, y), (x+w, y+h), (0, 255, 255), 4)\n",
    "cv2.imshow(\"People\", image_copy)\n",
    "cv2.waitKey(0)\n",
    "cv2.destroyAllWindows()"
   ]
  },
  {
   "cell_type": "code",
   "execution_count": 72,
   "metadata": {},
   "outputs": [],
   "source": [
    "eyes_detections = eyes_detector.detectMultiScale(gray_image, scaleFactor=1.2, maxSize=(70,70))\n",
    "\n",
    "for x, y, w, h in eyes_detections:\n",
    "    cv2.rectangle(image_copy, (x, y), (x+w, y+h), (0,0,255), 2)\n",
    "\n",
    "cv2.imshow(\"Eyes Detection\", image_copy)\n",
    "cv2.waitKey(0)\n",
    "cv2.destroyAllWindows()"
   ]
  }
 ],
 "metadata": {
  "kernelspec": {
   "display_name": "Python 3.8.10 64-bit",
   "language": "python",
   "name": "python3"
  },
  "language_info": {
   "codemirror_mode": {
    "name": "ipython",
    "version": 3
   },
   "file_extension": ".py",
   "mimetype": "text/x-python",
   "name": "python",
   "nbconvert_exporter": "python",
   "pygments_lexer": "ipython3",
   "version": "3.8.10"
  },
  "orig_nbformat": 4,
  "vscode": {
   "interpreter": {
    "hash": "916dbcbb3f70747c44a77c7bcd40155683ae19c65e1c03b4aa3499c5328201f1"
   }
  }
 },
 "nbformat": 4,
 "nbformat_minor": 2
}
